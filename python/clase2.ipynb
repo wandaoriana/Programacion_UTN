{
 "cells": [
  {
   "cell_type": "code",
   "execution_count": 3,
   "metadata": {},
   "outputs": [
    {
     "name": "stdout",
     "output_type": "stream",
     "text": [
      "3\n",
      "a\n",
      "3.5\n"
     ]
    }
   ],
   "source": [
    "miVariable  = 3;\n",
    "print(miVariable);\n",
    "miVariable = \"a\";\n",
    "print(miVariable);\n",
    "miVariable= 3.5;\n",
    "print(miVariable);"
   ]
  },
  {
   "cell_type": "code",
   "execution_count": 13,
   "metadata": {},
   "outputs": [
    {
     "name": "stdout",
     "output_type": "stream",
     "text": [
      "4376849040\n"
     ]
    }
   ],
   "source": [
    "x=10;\n",
    "y=2;\n",
    "z = x + y;\n",
    "print(id(z)); \n",
    "# Las literales se escriben x624"
   ]
  },
  {
   "cell_type": "code",
   "execution_count": 16,
   "metadata": {},
   "outputs": [
    {
     "name": "stdout",
     "output_type": "stream",
     "text": [
      "<class 'bool'>\n"
     ]
    }
   ],
   "source": [
    "a=False;\n",
    "print(type(a))"
   ]
  },
  {
   "cell_type": "code",
   "execution_count": 18,
   "metadata": {},
   "outputs": [
    {
     "name": "stdout",
     "output_type": "stream",
     "text": [
      "10\n",
      "<class 'int'>\n",
      "14.5\n",
      "<class 'float'>\n",
      "Hola ALumnos\n",
      "True\n"
     ]
    }
   ],
   "source": [
    "x=10;\n",
    "print(x);\n",
    "print(type(x));\n",
    "x=14.5;\n",
    "print(x);\n",
    "print(type(x));\n",
    "x= \"Hola ALumnos\";\n",
    "print(x);\n",
    "x= True;\n",
    "print(x);\n",
    "print(type(x))"
   ]
  },
  {
   "cell_type": "code",
   "execution_count": null,
   "metadata": {},
   "outputs": [],
   "source": []
  }
 ],
 "metadata": {
  "kernelspec": {
   "display_name": "Python 3",
   "language": "python",
   "name": "python3"
  },
  "language_info": {
   "codemirror_mode": {
    "name": "ipython",
    "version": 3
   },
   "file_extension": ".py",
   "mimetype": "text/x-python",
   "name": "python",
   "nbconvert_exporter": "python",
   "pygments_lexer": "ipython3",
   "version": "3.9.6"
  }
 },
 "nbformat": 4,
 "nbformat_minor": 2
}
