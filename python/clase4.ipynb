{
 "cells": [
  {
   "cell_type": "code",
   "execution_count": 4,
   "metadata": {},
   "outputs": [
    {
     "name": "stdout",
     "output_type": "stream",
     "text": [
      "Resultado de la suma 18\n",
      "El resultado de la suma es :18\n"
     ]
    }
   ],
   "source": [
    "operandoA = 8\n",
    "operandob= 10\n",
    "suma = operandoA + operandob\n",
    "print (\"Resultado de la suma\", suma)\n",
    "print(f\"El resultado de la suma es :{suma}\")\n",
    "resta = operandoA - operandob\n",
    "print(f\"El resultado de la resta es : {resta}\")"
   ]
  },
  {
   "cell_type": "code",
   "execution_count": 9,
   "metadata": {},
   "outputs": [
    {
     "name": "stdout",
     "output_type": "stream",
     "text": [
      "El resultado de la multiplicacion es:80\n",
      "El resultado de la division es: 0.8\n"
     ]
    }
   ],
   "source": [
    "multiplicacion =operandob * operandoA\n",
    "print(f\"El resultado de la multiplicacion es:{multiplicacion}\")\n",
    "division = operandoA / operandob\n",
    "print (f\"El resultado de la division es: {division}\")"
   ]
  }
 ],
 "metadata": {
  "kernelspec": {
   "display_name": "Python 3",
   "language": "python",
   "name": "python3"
  },
  "language_info": {
   "codemirror_mode": {
    "name": "ipython",
    "version": 3
   },
   "file_extension": ".py",
   "mimetype": "text/x-python",
   "name": "python",
   "nbconvert_exporter": "python",
   "pygments_lexer": "ipython3",
   "version": "3.12.3"
  }
 },
 "nbformat": 4,
 "nbformat_minor": 2
}
