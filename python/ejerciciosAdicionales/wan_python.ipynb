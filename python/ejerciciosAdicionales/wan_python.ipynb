{
 "cells": [
  {
   "cell_type": "code",
   "execution_count": 4,
   "metadata": {},
   "outputs": [
    {
     "name": "stdout",
     "output_type": "stream",
     "text": [
      "5\n"
     ]
    }
   ],
   "source": [
    "x=5\n",
    "print(x)"
   ]
  },
  {
   "cell_type": "code",
   "execution_count": 4,
   "metadata": {},
   "outputs": [
    {
     "name": "stdout",
     "output_type": "stream",
     "text": [
      "6\n"
     ]
    }
   ],
   "source": [
    "y=6\n",
    "print(6)"
   ]
  },
  {
   "cell_type": "code",
   "execution_count": 6,
   "metadata": {},
   "outputs": [
    {
     "name": "stdout",
     "output_type": "stream",
     "text": [
      "El valor es 5\n"
     ]
    }
   ],
   "source": [
    "my_int=5\n",
    "\n",
    "if my_int == 12:\n",
    "   print('El valor es 12')\n",
    "\n",
    "elif my_int == 5:\n",
    "   print('El valor es 5')\n",
    "\n",
    "else: \n",
    "   print('de otro modo es rose')"
   ]
  },
  {
   "cell_type": "code",
   "execution_count": 2,
   "metadata": {},
   "outputs": [
    {
     "name": "stdout",
     "output_type": "stream",
     "text": [
      "<class 'str'>\n",
      "Aqui cambio el valor de la cadena de texto\n",
      "El valor de mi entero es 5 y el de mi bol True\n",
      "El valor de mi entero es my_int y el valor de mi bool es my_bool\n"
     ]
    }
   ],
   "source": [
    "my_string= \"Esto es una cadena de texto\"\n",
    "my_string = \"Aqui cambio el valor de la cadena de texto\"\n",
    "\n",
    "print(type(my_string))\n",
    "\n",
    "\n",
    "print( my_string)\n",
    "\n",
    "my_other_string =  \"Esto es otra cadena\"\n",
    "\n",
    "x = str(5)\n",
    "# '5'\n",
    "\n",
    "my_int=5\n",
    "my_bool=True\n",
    "\n",
    "print(\"El valor de mi entero es \" + str(my_int)+ \" y el de mi bol \" + str(my_bool))\n",
    "\n",
    "print(\"El valor de mi entero es my_int y el valor de mi bool es my_bool\")\n",
    "\n",
    "\n"
   ]
  },
  {
   "cell_type": "code",
   "execution_count": 4,
   "metadata": {},
   "outputs": [
    {
     "name": "stdout",
     "output_type": "stream",
     "text": [
      "(1, 2, 3, 4)\n"
     ]
    }
   ],
   "source": [
    "### tuplas \n",
    "\n",
    "tuplex=(1,2,3,4)\n",
    "# es una tupla por que tiene la caracteristica que no se puede modificar\n",
    "print(tuplex)\n"
   ]
  },
  {
   "cell_type": "code",
   "execution_count": 8,
   "metadata": {},
   "outputs": [
    {
     "name": "stdout",
     "output_type": "stream",
     "text": [
      "[1, 2, 3, 4, 6]\n",
      "<class 'list'>\n",
      "<class 'tuple'>\n"
     ]
    }
   ],
   "source": [
    "lista1=[1,2,3,4]\n",
    "\n",
    "lista1.append(6)\n",
    "tuplex=(1,2,3,4)\n",
    "\n",
    "\n",
    "print(lista1)\n",
    "\n",
    "print(type(lista1)) #  esto me debeira dar una  clas list\n",
    "print(type(tuplex)) # esto me deberia dar una class tuple"
   ]
  },
  {
   "cell_type": "code",
   "execution_count": 14,
   "metadata": {},
   "outputs": [
    {
     "name": "stdout",
     "output_type": "stream",
     "text": [
      "[0, 0, 0, 0, 0]\n",
      "0\n",
      "1\n",
      "2\n",
      "3\n",
      "4\n",
      "[0, 1, 2, 3, 4]\n"
     ]
    }
   ],
   "source": [
    "t=[0,0,0,0,0] # No tiene ningun valor aun\n",
    "\n",
    "print(t)\n",
    "\n",
    "for i in range(0,5,1): # 0 , 1, 2 , 3 \n",
    "    print(i)\n",
    "    t[i]=i\n",
    "\n",
    "print(t)\n",
    "\n",
    "\n"
   ]
  },
  {
   "cell_type": "code",
   "execution_count": 15,
   "metadata": {},
   "outputs": [
    {
     "name": "stdout",
     "output_type": "stream",
     "text": [
      "[0, 0, 0, 0, 0]\n",
      "0\n",
      "1\n",
      "2\n",
      "3\n",
      "4\n",
      "[1, 2, 3, 4, 5]\n"
     ]
    }
   ],
   "source": [
    "p=[0,0,0,0,0] # No tiene ningun valor aun\n",
    "print(p)\n",
    "\n",
    "for i in range(0,5,1):\n",
    "    print(i)\n",
    "    p[i] = i + 1\n",
    "\n",
    "print(p)"
   ]
  },
  {
   "cell_type": "code",
   "execution_count": null,
   "metadata": {},
   "outputs": [],
   "source": []
  },
  {
   "cell_type": "code",
   "execution_count": null,
   "metadata": {},
   "outputs": [],
   "source": []
  },
  {
   "cell_type": "code",
   "execution_count": null,
   "metadata": {},
   "outputs": [],
   "source": []
  },
  {
   "cell_type": "markdown",
   "metadata": {},
   "source": [
    "Proceso sin_titulo\n",
    "\tDefinir i,j,num Como Entero;\n",
    "\tDimension num(4);\n",
    "\t\n",
    "\tnum[0]<-3;\n",
    "\tnum[1]<-4;\n",
    "\tnum[2]<-7;\n",
    "\tnum[3]<-9;\n",
    "\t\n",
    "\t\n",
    "\tPara i<-0 Hasta 3 Hacer\n",
    "\t\tsi num[i]>= 5 Entonces\n",
    "\t\t\tEscribir num[i];\n",
    "\t\tFinSi\n",
    "\tFinPara\n",
    "FinProceso"
   ]
  },
  {
   "cell_type": "code",
   "execution_count": 27,
   "metadata": {},
   "outputs": [
    {
     "name": "stdout",
     "output_type": "stream",
     "text": [
      "[0, 0]\n",
      "7\n",
      "9\n",
      "[7, 9]\n"
     ]
    }
   ],
   "source": [
    "num =[3,4,7,9]\n",
    "t=0 \n",
    "f=[0,0]\n",
    "print(f)\n",
    "# print(len(f))\n",
    "#print(num)\n",
    "#print(num[0])\n",
    "\n",
    "for i in range(0,4,1): # [0,4) => 0 ,1 ,2, 3\n",
    "    #print(i)\n",
    "    if num[i] >= 5: # sentencia\n",
    "         print(num[i]) # accion1\n",
    "         f[t]= num[i] # accion 2\n",
    "         t = t + 1 # accion 3\n",
    "    \n",
    "print(f)"
   ]
  },
  {
   "cell_type": "code",
   "execution_count": 50,
   "metadata": {},
   "outputs": [
    {
     "name": "stdout",
     "output_type": "stream",
     "text": [
      "51\n"
     ]
    }
   ],
   "source": [
    "# def \"Nombre de la funcion\"(Argumentos):\n",
    "#------------- DEFINICION DE MI FUNCION --------------\n",
    "def funciontal(a,b):\n",
    "    u = a+b* b + 2*a\n",
    "    return u\n",
    "# ------------------\n",
    "\n",
    "y=5\n",
    "j=6\n",
    "\n",
    "\n",
    "\n",
    "valorasignado=funciontal(y,j)\n",
    "\n",
    "print(valorasignado)"
   ]
  },
  {
   "cell_type": "code",
   "execution_count": 3,
   "metadata": {},
   "outputs": [
    {
     "data": {
      "text/plain": [
       "20"
      ]
     },
     "execution_count": 3,
     "metadata": {},
     "output_type": "execute_result"
    }
   ],
   "source": [
    "from wan import wanfuncion\n",
    "\n",
    "wanfuncion(5,4)\n",
    "\n",
    "\n",
    "\n",
    "\n"
   ]
  }
 ],
 "metadata": {
  "kernelspec": {
   "display_name": "Python 3",
   "language": "python",
   "name": "python3"
  },
  "language_info": {
   "codemirror_mode": {
    "name": "ipython",
    "version": 3
   },
   "file_extension": ".py",
   "mimetype": "text/x-python",
   "name": "python",
   "nbconvert_exporter": "python",
   "pygments_lexer": "ipython3",
   "version": "3.12.3"
  }
 },
 "nbformat": 4,
 "nbformat_minor": 2
}
