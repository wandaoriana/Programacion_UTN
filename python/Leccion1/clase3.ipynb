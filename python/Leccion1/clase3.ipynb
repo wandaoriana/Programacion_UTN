{
 "cells": [
  {
   "cell_type": "code",
   "execution_count": 1,
   "metadata": {},
   "outputs": [
    {
     "name": "stdout",
     "output_type": "stream",
     "text": [
      "Blackpink\n",
      "Mi grupo favorito es : Blackpink Kpop band\n"
     ]
    }
   ],
   "source": [
    "miGrupoFavorito = \"Blackpink\"\n",
    "caracteristicas = \"Kpop band\"\n",
    "print(miGrupoFavorito)\n",
    "print(\"Mi grupo favorito es : \" +miGrupoFavorito +\" \" +caracteristicas)"
   ]
  },
  {
   "cell_type": "code",
   "execution_count": null,
   "metadata": {},
   "outputs": [],
   "source": [
    "#concatenar\n",
    "numero1 = \"8\"\n",
    "numero2= \"4\"\n",
    "print(numero1 + numero2)"
   ]
  },
  {
   "cell_type": "code",
   "execution_count": 2,
   "metadata": {},
   "outputs": [
    {
     "name": "stdout",
     "output_type": "stream",
     "text": [
      "12\n"
     ]
    }
   ],
   "source": [
    "#para sumarlo y convertirlo a entero se le agrega \"int\"\n",
    "numero1 = \"8\"\n",
    "numero2= \"4\"\n",
    "print(int(numero1) + int(numero2))"
   ]
  },
  {
   "cell_type": "code",
   "execution_count": 1,
   "metadata": {},
   "outputs": [
    {
     "name": "stdout",
     "output_type": "stream",
     "text": [
      "False\n",
      "El resultado es falso\n"
     ]
    }
   ],
   "source": [
    "miBooleano= 1 > 2\n",
    "print(miBooleano)\n",
    "\n",
    "if miBooleano:\n",
    "    print(\"El resultado es verdadero\")\n",
    "else:\n",
    "    print( \"El resultado es falso\")\n",
    "    \n",
    "    resultado = input(\"Digite un numero\")\n",
    "    print(resultado)\n",
    "    "
   ]
  },
  {
   "cell_type": "code",
   "execution_count": 1,
   "metadata": {},
   "outputs": [],
   "source": [
    "numero1 = int(input(\"Escribe el primer numero: \"))\n",
    "numero2 = int(input(\"Escribe el segundo numero: \"))\n",
    "resultado = numero1 + numero2\n",
    "print(\"El resultado de la suma es: \", resultado)\n"
   ]
  },
  {
   "cell_type": "code",
   "execution_count": null,
   "metadata": {},
   "outputs": [],
   "source": [
    "#3.8 Actividad: \n",
    "\n",
    "# #Ejercicio 1: Califica tu día \n",
    "\n",
    "# ¿Cómo estuvo tu día (1 al 10)?\n",
    "\n",
    "# Mi día estuvo de: 10\n",
    "\n",
    "# Hacer el código\n",
    "\n",
    "# Debes hacerlo en PyCharm y también en el celular y en la terminal de Python...\n",
    "\n",
    "# Ejercicio 2: \n",
    "\n",
    "# Se solicita incluir la siguiente información acerca de un libro:\n",
    "\n",
    "# título\n",
    "\n",
    "# autor\n",
    "\n",
    "# Debes imprimir la información en el siguiente formato:\n",
    "\n",
    "# Proporciona el título:\n",
    "\n",
    "# Proporciona el autor:\n",
    "\n",
    "# <título> fue escrito por <autor>\n",
    "\n",
    "# Preguntas de esta tarea\n",
    "\n",
    "# # ¿Cuál es el código del requerimiento solicitado\n",
    "\n"
   ]
  }
 ],
 "metadata": {
  "kernelspec": {
   "display_name": "Python 3",
   "language": "python",
   "name": "python3"
  },
  "language_info": {
   "codemirror_mode": {
    "name": "ipython",
    "version": 3
   },
   "file_extension": ".py",
   "mimetype": "text/x-python",
   "name": "python",
   "nbconvert_exporter": "python",
   "pygments_lexer": "ipython3",
   "version": "3.12.3"
  }
 },
 "nbformat": 4,
 "nbformat_minor": 2
}
